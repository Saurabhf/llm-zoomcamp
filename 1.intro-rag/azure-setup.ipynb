{
 "cells": [
  {
   "cell_type": "code",
   "execution_count": 1,
   "id": "61f2ccf8-6918-4092-8dd5-4489429cf4d4",
   "metadata": {},
   "outputs": [],
   "source": [
    "import openai"
   ]
  },
  {
   "cell_type": "code",
   "execution_count": 2,
   "id": "44ae7e38-e4f8-4799-87b7-aecc9c5cb8a1",
   "metadata": {},
   "outputs": [],
   "source": [
    "import os\n",
    "from openai import AzureOpenAI"
   ]
  },
  {
   "cell_type": "code",
   "execution_count": 3,
   "id": "f03cf2ba-3d2f-4737-a050-d22ebad221e7",
   "metadata": {},
   "outputs": [
    {
     "data": {
      "text/plain": [
       "True"
      ]
     },
     "execution_count": 3,
     "metadata": {},
     "output_type": "execute_result"
    }
   ],
   "source": [
    "from dotenv import load_dotenv\n",
    "import os\n",
    "\n",
    "# Load the .env file\n",
    "load_dotenv()"
   ]
  },
  {
   "cell_type": "code",
   "execution_count": 4,
   "id": "20299895-0033-42de-87ed-c581cc71fa5b",
   "metadata": {},
   "outputs": [],
   "source": [
    "client = AzureOpenAI(\n",
    "    api_key=os.getenv('aikey'),\n",
    "    api_version=\"2024-02-01\",\n",
    "    azure_endpoint = \"https://ragprojectv1.openai.azure.com/\"\n",
    ")\n",
    "\n",
    "gpt_four = \"gpt-four-oai\""
   ]
  },
  {
   "cell_type": "code",
   "execution_count": 5,
   "id": "289cb0c2-2173-455d-a107-e9dfbe9f4e58",
   "metadata": {},
   "outputs": [
    {
     "name": "stdout",
     "output_type": "stream",
     "text": [
      "Sure, here's one for you:\n",
      "\n",
      "Why don't scientists trust atoms?\n",
      "\n",
      "Because they make up everything!\n"
     ]
    }
   ],
   "source": [
    "# Test Connection\n",
    "prompt = \"Tell me a funny joke\"\n",
    "\n",
    "response = client.chat.completions.create(\n",
    "    model= gpt_four, # model = \"deployment_name\".\n",
    "    messages=[\n",
    "        {\"role\": \"system\", \"content\": \"Act as a standup comdeian\"},\n",
    "        {\"role\": \"user\", \"content\": prompt}\n",
    "    ], max_tokens= 25, temperature= 0\n",
    ")\n",
    "\n",
    "print(response.choices[0].message.content)"
   ]
  },
  {
   "cell_type": "code",
   "execution_count": null,
   "id": "b6104cbb-8e67-435e-9417-ae5080e1f4e4",
   "metadata": {},
   "outputs": [],
   "source": []
  }
 ],
 "metadata": {
  "kernelspec": {
   "display_name": "Python 3 (ipykernel)",
   "language": "python",
   "name": "python3"
  },
  "language_info": {
   "codemirror_mode": {
    "name": "ipython",
    "version": 3
   },
   "file_extension": ".py",
   "mimetype": "text/x-python",
   "name": "python",
   "nbconvert_exporter": "python",
   "pygments_lexer": "ipython3",
   "version": "3.10.13"
  }
 },
 "nbformat": 4,
 "nbformat_minor": 5
}
